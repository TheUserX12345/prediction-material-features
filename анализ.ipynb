{
  "nbformat": 4,
  "nbformat_minor": 0,
  "metadata": {
    "colab": {
      "provenance": []
    },
    "kernelspec": {
      "name": "python3",
      "display_name": "Python 3"
    },
    "language_info": {
      "name": "python"
    }
  },
  "cells": [
    {
      "cell_type": "code",
      "source": [
        "from google.colab import drive\n",
        "drive.mount(\"/content/drive\")\n",
        "import pandas as pd\n",
        "import matplotlib.pyplot as plt\n",
        "import seaborn as sns\n",
        "\n",
        "# Загрузим файл Excel\n",
        "file_path = \"14377959_1309152X_bp.xlsx\"\n",
        "data = pd.read_excel(file_path)\n",
        "\n",
        "# Предварительная обработка данных\n",
        "# Переименуем столбцы для удобства\n",
        "data.columns = [\"id\", \"Соотношение матрица-наполнитель\", \"Плотность кг/м3\", \"Модуль упругости, ГПа\",\n",
        "                \"Количество отвердителя, м.%\", \"Содержание эпоксидных групп,%_2\",\n",
        "                \"Температура вспышки, С_2\", \"Поверхностная плотность, г/м2\",\n",
        "                \"Модуль упругости при растяжении, ГПа\", \"Прочность при растяжении, МПа\",\n",
        "                \"Потребление смолы, г/м2\"]\n",
        "\n",
        "# 1. Статистические метрики\n",
        "summary = data.describe()\n",
        "\n",
        "# 2. Визуализация данных\n",
        "data.hist(figsize=(12, 8))\n",
        "plt.suptitle(\"Гистограммы признаков\", y=1.02)\n",
        "plt.show()\n",
        "\n",
        "# 3. Анализ корреляции\n",
        "correlation_matrix = data.corr()\n",
        "plt.figure(figsize=(10, 8))\n",
        "sns.heatmap(correlation_matrix, annot=True, cmap='coolwarm', fmt=\".2f\")\n",
        "plt.title(\"Тепловая карта корреляции\")\n",
        "plt.show()\n",
        "\n",
        "# Дополнительные анализы можно добавить по необходимости.\n",
        "\n",
        "# Не забудьте заменить '14377959_1309152X_bp.xlsx' на фактический путь к файлу.\n"
      ],
      "metadata": {
        "colab": {
          "base_uri": "https://localhost:8080/"
        },
        "id": "EuFfcCYh8hpu",
        "outputId": "1c00a9e8-969f-4d95-fe91-a80e430191cd"
      },
      "execution_count": null,
      "outputs": [
        {
          "output_type": "stream",
          "name": "stdout",
          "text": [
            "Drive already mounted at /content/drive; to attempt to forcibly remount, call drive.mount(\"/content/drive\", force_remount=True).\n"
          ]
        }
      ]
    },
    {
      "cell_type": "code",
      "source": [
        "import pandas as pd\n",
        "import matplotlib.pyplot as plt\n",
        "from sklearn.preprocessing import StandardScaler\n",
        "\n",
        "# Создайте список всех признаков, которые не являются целевой переменной\n",
        "features = [\"Соотношение матрица-наполнитель\",\n",
        "            \"Количество отвердителя, м.%\", \"Содержание эпоксидных групп,%_2\",\n",
        "            \"Температура вспышки, С_2\", \"Поверхностная плотность, г/м2\",\n",
        "            \"Потребление смолы, г/м2\"]\n",
        "\n",
        "# Создайте экземпляр стандартизатора для нормализации данных\n",
        "scaler = StandardScaler()\n",
        "\n",
        "# Цикл по всем признакам\n",
        "for feature in features:\n",
        "    # Начало исходных графиков\n",
        "    plt.figure(figsize=(12, 4))\n",
        "\n",
        "    # Гистограмма до нормализации\n",
        "    plt.subplot(1, 2, 1)\n",
        "    plt.title(f\"Распределение {feature} (до нормализации)\")\n",
        "    data[feature].hist()\n",
        "    plt.xlabel(feature)\n",
        "\n",
        "    # Нормализация признака\n",
        "    data[feature] = scaler.fit_transform(data[feature].values.reshape(-1, 1))\n",
        "\n",
        "    # Гистограмма после нормализации\n",
        "    plt.subplot(1, 2, 2)\n",
        "    plt.title(f\"Распределение {feature} (после нормализации)\")\n",
        "    data[feature].hist()\n",
        "    plt.xlabel(feature)\n",
        "\n",
        "    # Вывод максимального и минимального значения\n",
        "    max_value = data[feature].max()\n",
        "    min_value = data[feature].min()\n",
        "    print(f\"{feature}: Максимальное значение = {max_value}, Минимальное значение = {min_value}\")\n",
        "\n",
        "    # Завершение и отображение графиков\n",
        "    plt.show()\n",
        "\n",
        "# Сохраните обновленные данные с нормализованными признаками\n",
        "data.to_excel(\"normalized_data.xlsx\", index=False)\n"
      ],
      "metadata": {
        "id": "iUTF-attMwRc"
      },
      "execution_count": null,
      "outputs": []
    }
  ]
}